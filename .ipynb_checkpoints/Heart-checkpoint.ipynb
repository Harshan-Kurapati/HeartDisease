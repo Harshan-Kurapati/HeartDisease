{
 "cells": [
  {
   "cell_type": "code",
   "execution_count": 32,
   "id": "a64fdfbe",
   "metadata": {},
   "outputs": [],
   "source": [
    "import numpy as np\n",
    "import pandas as pd \n",
    "import matplotlib.pyplot as plt\n",
    "from sklearn.pipeline import Pipeline\n",
    "from sklearn.impute import SimpleImputer\n",
    "from sklearn.preprocessing import StandardScaler\n",
    "from sklearn.compose import ColumnTransformer\n",
    "from sklearn.model_selection import train_test_split"
   ]
  },
  {
   "cell_type": "code",
   "execution_count": 2,
   "id": "fd403318",
   "metadata": {},
   "outputs": [],
   "source": [
    "df = pd.read_csv(\"heart.csv\")"
   ]
  },
  {
   "cell_type": "code",
   "execution_count": 3,
   "id": "cdc2eda9",
   "metadata": {},
   "outputs": [
    {
     "name": "stdout",
     "output_type": "stream",
     "text": [
      "<class 'pandas.core.frame.DataFrame'>\n",
      "RangeIndex: 1025 entries, 0 to 1024\n",
      "Data columns (total 14 columns):\n",
      " #   Column    Non-Null Count  Dtype  \n",
      "---  ------    --------------  -----  \n",
      " 0   age       1025 non-null   int64  \n",
      " 1   sex       1025 non-null   int64  \n",
      " 2   cp        1025 non-null   int64  \n",
      " 3   trestbps  1025 non-null   int64  \n",
      " 4   chol      1025 non-null   int64  \n",
      " 5   fbs       1025 non-null   int64  \n",
      " 6   restecg   1025 non-null   int64  \n",
      " 7   thalach   1025 non-null   int64  \n",
      " 8   exang     1025 non-null   int64  \n",
      " 9   oldpeak   1025 non-null   float64\n",
      " 10  slope     1025 non-null   int64  \n",
      " 11  ca        1025 non-null   int64  \n",
      " 12  thal      1025 non-null   int64  \n",
      " 13  target    1025 non-null   int64  \n",
      "dtypes: float64(1), int64(13)\n",
      "memory usage: 112.2 KB\n"
     ]
    }
   ],
   "source": [
    "df.info()"
   ]
  },
  {
   "cell_type": "code",
   "execution_count": 15,
   "id": "532bed61",
   "metadata": {},
   "outputs": [],
   "source": [
    "num_cols = df.select_dtypes(include = [\"int64\", \"float64\"]).columns.tolist()\n",
    "num_cols.remove(\"target\")"
   ]
  },
  {
   "cell_type": "code",
   "execution_count": 22,
   "id": "7ed226fb",
   "metadata": {},
   "outputs": [],
   "source": [
    "Numerical_pipeline = Pipeline([\n",
    "    ('imputer', SimpleImputer(strategy = \"median\")),\n",
    "    ('Scalar', StandardScaler())\n",
    "])"
   ]
  },
  {
   "cell_type": "code",
   "execution_count": 25,
   "id": "6f7553ef",
   "metadata": {},
   "outputs": [],
   "source": [
    "preprocessor = ColumnTransformer([\n",
    "    ('num', Numerical_pipeline, num_cols)   \n",
    "])"
   ]
  },
  {
   "cell_type": "code",
   "execution_count": 26,
   "id": "b359757a",
   "metadata": {},
   "outputs": [],
   "source": [
    "pipeline = Pipeline([\n",
    "    ('preprocessor', preprocessor)\n",
    "])"
   ]
  },
  {
   "cell_type": "code",
   "execution_count": 29,
   "id": "10165d84",
   "metadata": {},
   "outputs": [],
   "source": [
    "X = df.drop(\"target\", axis = 1)\n",
    "y = df[\"target\"]"
   ]
  },
  {
   "cell_type": "code",
   "execution_count": 35,
   "id": "f281b340",
   "metadata": {},
   "outputs": [],
   "source": [
    "X_train, X_test, y_train, y_test = train_test_split(X, y, train_size = 0.8, random_state = 42, shuffle = True)"
   ]
  },
  {
   "cell_type": "markdown",
   "id": "daa04b53",
   "metadata": {},
   "source": [
    "X_train_pro = pd.Dataframe(pipeline.fit_transform(X_train), ) "
   ]
  },
  {
   "cell_type": "code",
   "execution_count": 38,
   "id": "258b22e7",
   "metadata": {},
   "outputs": [
    {
     "data": {
      "text/plain": [
       "array([[-0.58584022,  0.65465367,  1.008275  , ...,  1.00526437,\n",
       "         2.17169136, -0.54519316],\n",
       "       [ 1.05147737, -1.52752523, -0.91672034, ...,  1.00526437,\n",
       "        -0.7254674 , -0.54519316],\n",
       "       [-0.04006769, -1.52752523,  1.008275  , ...,  1.00526437,\n",
       "        -0.7254674 , -0.54519316],\n",
       "       ...,\n",
       "       [-0.36753121,  0.65465367, -0.91672034, ...,  1.00526437,\n",
       "        -0.7254674 ,  1.11057867],\n",
       "       [-1.24076726,  0.65465367, -0.91672034, ...,  1.00526437,\n",
       "        -0.7254674 ,  1.11057867],\n",
       "       [-0.2583767 ,  0.65465367, -0.91672034, ...,  1.00526437,\n",
       "         0.24025219, -0.54519316]])"
      ]
     },
     "execution_count": 38,
     "metadata": {},
     "output_type": "execute_result"
    }
   ],
   "source": [
    "X_train_pro"
   ]
  },
  {
   "cell_type": "code",
   "execution_count": null,
   "id": "caf7d1f0",
   "metadata": {},
   "outputs": [],
   "source": []
  }
 ],
 "metadata": {
  "kernelspec": {
   "display_name": "Python 3 (ipykernel)",
   "language": "python",
   "name": "python3"
  },
  "language_info": {
   "codemirror_mode": {
    "name": "ipython",
    "version": 3
   },
   "file_extension": ".py",
   "mimetype": "text/x-python",
   "name": "python",
   "nbconvert_exporter": "python",
   "pygments_lexer": "ipython3",
   "version": "3.11.4"
  }
 },
 "nbformat": 4,
 "nbformat_minor": 5
}
