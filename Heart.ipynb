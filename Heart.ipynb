{
 "cells": [
  {
   "cell_type": "code",
   "execution_count": 1,
   "id": "a64fdfbe",
   "metadata": {},
   "outputs": [],
   "source": [
    "import numpy as np\n",
    "import pandas as pd \n",
    "import matplotlib.pyplot as plt\n",
    "from sklearn.pipeline import Pipeline\n",
    "from sklearn.impute import SimpleImputer\n",
    "from sklearn.preprocessing import StandardScaler\n",
    "from sklearn.compose import ColumnTransformer\n",
    "from sklearn.model_selection import train_test_split\n",
    "from sklearn.metrics import accuracy_score"
   ]
  },
  {
   "cell_type": "code",
   "execution_count": 2,
   "id": "fd403318",
   "metadata": {},
   "outputs": [],
   "source": [
    "df = pd.read_csv(\"heart.csv\")"
   ]
  },
  {
   "cell_type": "code",
   "execution_count": 3,
   "id": "cdc2eda9",
   "metadata": {},
   "outputs": [
    {
     "name": "stdout",
     "output_type": "stream",
     "text": [
      "<class 'pandas.core.frame.DataFrame'>\n",
      "RangeIndex: 1025 entries, 0 to 1024\n",
      "Data columns (total 14 columns):\n",
      " #   Column    Non-Null Count  Dtype  \n",
      "---  ------    --------------  -----  \n",
      " 0   age       1025 non-null   int64  \n",
      " 1   sex       1025 non-null   int64  \n",
      " 2   cp        1025 non-null   int64  \n",
      " 3   trestbps  1025 non-null   int64  \n",
      " 4   chol      1025 non-null   int64  \n",
      " 5   fbs       1025 non-null   int64  \n",
      " 6   restecg   1025 non-null   int64  \n",
      " 7   thalach   1025 non-null   int64  \n",
      " 8   exang     1025 non-null   int64  \n",
      " 9   oldpeak   1025 non-null   float64\n",
      " 10  slope     1025 non-null   int64  \n",
      " 11  ca        1025 non-null   int64  \n",
      " 12  thal      1025 non-null   int64  \n",
      " 13  target    1025 non-null   int64  \n",
      "dtypes: float64(1), int64(13)\n",
      "memory usage: 112.2 KB\n"
     ]
    }
   ],
   "source": [
    "df.info()"
   ]
  },
  {
   "cell_type": "code",
   "execution_count": 4,
   "id": "532bed61",
   "metadata": {},
   "outputs": [],
   "source": [
    "num_cols = df.select_dtypes(include = [\"int64\", \"float64\"]).columns.tolist()\n",
    "num_cols.remove(\"target\")"
   ]
  },
  {
   "cell_type": "code",
   "execution_count": 5,
   "id": "7ed226fb",
   "metadata": {},
   "outputs": [],
   "source": [
    "Numerical_pipeline = Pipeline([\n",
    "    ('imputer', SimpleImputer(strategy = \"median\")),\n",
    "    ('Scalar', StandardScaler())\n",
    "])"
   ]
  },
  {
   "cell_type": "code",
   "execution_count": 6,
   "id": "5a87e2dc",
   "metadata": {},
   "outputs": [],
   "source": [
    "preprocessor = ColumnTransformer([\n",
    "    ('num', Numerical_pipeline, num_cols)   \n",
    "])"
   ]
  },
  {
   "cell_type": "code",
   "execution_count": 7,
   "id": "ba609383",
   "metadata": {},
   "outputs": [],
   "source": [
    "pipeline = Pipeline([\n",
    "    ('preprocessor', preprocessor)\n",
    "])"
   ]
  },
  {
   "cell_type": "code",
   "execution_count": 8,
   "id": "736e60f3",
   "metadata": {},
   "outputs": [],
   "source": [
    "X = df.drop(\"target\", axis = 1)\n",
    "y = df[\"target\"]"
   ]
  },
  {
   "cell_type": "code",
   "execution_count": 9,
   "id": "9802af4e",
   "metadata": {},
   "outputs": [],
   "source": [
    "X_train, X_test, y_train, y_test = train_test_split(X, y, train_size = 0.8, random_state = 42, shuffle = True)"
   ]
  },
  {
   "cell_type": "code",
   "execution_count": 10,
   "id": "f713a086",
   "metadata": {},
   "outputs": [],
   "source": [
    "X_train_pro = pd.DataFrame(pipeline.fit_transform(X_train), columns = num_cols, index = X_train.index) "
   ]
  },
  {
   "cell_type": "markdown",
   "id": "90b23f4d",
   "metadata": {},
   "source": [
    "# Logistic Regression from scratch "
   ]
  },
  {
   "cell_type": "code",
   "execution_count": 86,
   "id": "4006028e",
   "metadata": {},
   "outputs": [],
   "source": [
    "learning_rate = 1000\n",
    "alpha = 0.01\n",
    "cost_list = []\n",
    "lr_list = []\n",
    "\n",
    "def logistic_reg(X, y, learning_rate = 1000, alpha = 0.01):\n",
    "    X[\"bias\"] = 1\n",
    "    theta = np.zeros(X.shape[1])\n",
    "    m = X.shape[0]\n",
    "    \n",
    "    for i in range(learning_rate):\n",
    "        z = np.dot(X, theta)\n",
    "        h_x = 1/(1 + np.exp(-z))\n",
    "        \n",
    "        cost = (-1/m)*np.sum((y* np.log(h_x)) + ((1-y)*np.log(1-h_x)))\n",
    "        \n",
    "        grad = (1/m)* np.dot(X.T, (h_x - y))\n",
    "        \n",
    "        theta -= alpha*grad\n",
    "        \n",
    "        cost_list.append(cost)\n",
    "        lr_list.append(i)\n",
    "        \n",
    "    return theta, cost_list, lr_list "
   ]
  },
  {
   "cell_type": "code",
   "execution_count": 87,
   "id": "e4174bf7",
   "metadata": {},
   "outputs": [],
   "source": [
    "final_theta, cost_list, lr_list = logistic_reg(X_train_pro, y_train, 2000, 0.01)"
   ]
  },
  {
   "cell_type": "code",
   "execution_count": 88,
   "id": "e158e44a",
   "metadata": {},
   "outputs": [
    {
     "data": {
      "text/plain": [
       "[<matplotlib.lines.Line2D at 0x13f883b50>]"
      ]
     },
     "execution_count": 88,
     "metadata": {},
     "output_type": "execute_result"
    },
    {
     "data": {
      "image/png": "[encoded data removed]",
      "text/plain": [
       "<Figure size 640x480 with 1 Axes>"
      ]
     },
     "metadata": {},
     "output_type": "display_data"
    }
   ],
   "source": [
    "plt.plot(lr_list, cost_list)"
   ]
  },
  {
   "cell_type": "code",
   "execution_count": 92,
   "id": "a3762fec",
   "metadata": {},
   "outputs": [],
   "source": [
    "X_test_pro = pd.DataFrame(pipeline.fit_transform(X_test), columns = num_cols, index = X_test.index)"
   ]
  },
  {
   "cell_type": "code",
   "execution_count": 94,
   "id": "59a508d1",
   "metadata": {},
   "outputs": [],
   "source": [
    "X_test_pro[\"bias\"] = 1\n",
    "\n",
    "z_pred = np.dot(X_test_pro, final_theta)\n",
    "y_pred = 1/(1+np.exp(-z_pred))"
   ]
  },
  {
   "cell_type": "code",
   "execution_count": 99,
   "id": "c418b6a1",
   "metadata": {},
   "outputs": [],
   "source": [
    "y_pred_final = (y_pred >= 0.5).astype(int)"
   ]
  },
  {
   "cell_type": "code",
   "execution_count": 100,
   "id": "d8ed9592",
   "metadata": {},
   "outputs": [
    {
     "data": {
      "text/plain": [
       "array([1, 1, 0, 1, 0, 1, 0, 0, 1, 0, 1, 0, 1, 1, 0, 1, 0, 1, 1, 0, 1, 0,\n",
       "       1, 0, 1, 1, 1, 1, 0, 1, 1, 1, 1, 1, 1, 1, 1, 0, 1, 1, 0, 0, 1, 1,\n",
       "       0, 0, 0, 0, 1, 0, 1, 0, 1, 0, 1, 1, 0, 0, 1, 1, 1, 0, 0, 0, 0, 0,\n",
       "       1, 1, 0, 1, 1, 0, 0, 1, 1, 1, 0, 1, 1, 1, 0, 0, 0, 0, 1, 0, 1, 0,\n",
       "       0, 1, 1, 0, 1, 1, 1, 1, 1, 0, 0, 0, 1, 0, 1, 1, 0, 1, 0, 1, 0, 1,\n",
       "       1, 1, 1, 0, 1, 1, 1, 1, 1, 0, 1, 1, 0, 0, 0, 0, 1, 1, 1, 1, 1, 0,\n",
       "       1, 1, 0, 1, 0, 1, 1, 1, 1, 1, 1, 0, 1, 1, 1, 1, 1, 0, 1, 0, 1, 1,\n",
       "       0, 0, 1, 1, 0, 0, 1, 1, 0, 0, 0, 0, 0, 0, 0, 1, 0, 1, 1, 0, 1, 1,\n",
       "       1, 0, 1, 1, 1, 0, 1, 1, 1, 1, 1, 1, 1, 1, 1, 1, 1, 1, 0, 0, 1, 0,\n",
       "       1, 1, 1, 1, 1, 0, 0])"
      ]
     },
     "execution_count": 100,
     "metadata": {},
     "output_type": "execute_result"
    }
   ],
   "source": []
  },
  {
   "cell_type": "code",
   "execution_count": 103,
   "id": "0825a5fb",
   "metadata": {},
   "outputs": [
    {
     "data": {
      "text/plain": [
       "0.7951219512195122"
      ]
     },
     "execution_count": 103,
     "metadata": {},
     "output_type": "execute_result"
    }
   ],
   "source": [
    "accuracy_score(y_pred_final, y_test)"
   ]
  },
  {
   "cell_type": "code",
   "execution_count": 11,
   "id": "6d78c592",
   "metadata": {},
   "outputs": [
    {
     "data": {
      "text/plain": [
       "['age',\n",
       " 'sex',\n",
       " 'cp',\n",
       " 'trestbps',\n",
       " 'chol',\n",
       " 'fbs',\n",
       " 'restecg',\n",
       " 'thalach',\n",
       " 'exang',\n",
       " 'oldpeak',\n",
       " 'slope',\n",
       " 'ca',\n",
       " 'thal']"
      ]
     },
     "execution_count": 11,
     "metadata": {},
     "output_type": "execute_result"
    }
   ],
   "source": [
    "num_cols.bit_length()"
   ]
  },
  {
   "cell_type": "markdown",
   "id": "af8c288e",
   "metadata": {},
   "source": [
    "# Custom logistic regression (OOP)"
   ]
  },
  {
   "cell_type": "code",
   "execution_count": 13,
   "id": "77750650",
   "metadata": {},
   "outputs": [],
   "source": [
    "from sklearn.base import BaseEstimator, ClassifierMixin\n",
    "import numpy as np"
   ]
  },
  {
   "cell_type": "code",
   "execution_count": 17,
   "id": "f253bb38",
   "metadata": {},
   "outputs": [],
   "source": [
    "class CustomLogisticRegression(BaseEstimator, ClassifierMixin):\n",
    "    def __init__(self, learning_rate = 1000, alpha = 0.01):\n",
    "        \n",
    "        self.learning_rate = learning_rate\n",
    "        self.alpha = alpha\n",
    "        self.theta = None\n",
    "        self.cost_list = []\n",
    "        self.lr_list = []\n",
    "        \n",
    "    def fit(self, X, y):\n",
    "        \n",
    "        X[\"bias\"] = 1\n",
    "        \n",
    "        self.theta = np.zeros(X.shape[1])\n",
    "        m = X.shape[0]\n",
    "        \n",
    "        for i in range(learning_rate):\n",
    "            z = np.dot(X, self.theta)\n",
    "            h_x = 1/(1+np.exp(-z))\n",
    "            \n",
    "            cost = (-1/m)*np.sum((y*np.log(h_x)) + ((1-y)* np.log(1-h_x)))\n",
    "            grad = (1/m)* np.dot(X.T, (h_x - y))\n",
    "            \n",
    "            self.theta -= self.alpha*grad\n",
    "            \n",
    "            \n",
    "            self.cost_list.append(i)\n",
    "            self.lr_list.append(i)\n",
    "            \n",
    "        return self\n",
    "    \n",
    "    \n",
    "    def predict(self, X):\n",
    "        \n",
    "        X[\"bias\"] = 1\n",
    "        \n",
    "        z = np.dot(X, self.theta)\n",
    "        h_x = 1/(1+np.exp(-z))\n",
    "        \n",
    "        return (h_x >= 0.5).astype(int)\n",
    "    \n",
    "    def predict_proba(self, X):\n",
    "        \n",
    "        X[\"bias\"] = 1\n",
    "        z = np.dot(X, self.theta)\n",
    "        h_x = 1/(1+np.exp(-z))\n",
    "        \n",
    "        return h_x\n",
    "    \n",
    "    \n",
    "    \n",
    "    \n",
    "    "
   ]
  },
  {
   "cell_type": "markdown",
   "id": "594d9821",
   "metadata": {},
   "source": [
    "### Adding into the pipeline"
   ]
  },
  {
   "cell_type": "code",
   "execution_count": null,
   "id": "d4343110",
   "metadata": {},
   "outputs": [],
   "source": []
  }
 ],
 "metadata": {
  "kernelspec": {
   "display_name": "Python 3 (ipykernel)",
   "language": "python",
   "name": "python3"
  },
  "language_info": {
   "codemirror_mode": {
    "name": "ipython",
    "version": 3
   },
   "file_extension": ".py",
   "mimetype": "text/x-python",
   "name": "python",
   "nbconvert_exporter": "python",
   "pygments_lexer": "ipython3",
   "version": "3.11.4"
  }
 },
 "nbformat": 4,
 "nbformat_minor": 5
}
